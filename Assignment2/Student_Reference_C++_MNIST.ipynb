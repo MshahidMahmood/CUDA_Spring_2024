{
  "nbformat": 4,
  "nbformat_minor": 0,
  "metadata": {
    "colab": {
      "provenance": [],
      "authorship_tag": "ABX9TyM9GY+QQenl0e055tSBPM5X",
      "include_colab_link": true
    },
    "kernelspec": {
      "name": "python3",
      "display_name": "Python 3"
    },
    "language_info": {
      "name": "python"
    },
    "accelerator": "GPU"
  },
  "cells": [
    {
      "cell_type": "markdown",
      "metadata": {
        "id": "view-in-github",
        "colab_type": "text"
      },
      "source": [
        "<a href=\"https://colab.research.google.com/github/mmmovania/CUDA_Spring_2024/blob/main/Assignment2/Student_Reference_C%2B%2B_MNIST.ipynb\" target=\"_parent\"><img src=\"https://colab.research.google.com/assets/colab-badge.svg\" alt=\"Open In Colab\"/></a>"
      ]
    },
    {
      "cell_type": "markdown",
      "source": [
        "This is the Assignment 2 reference C++ code for CUDA Spring 2024 students of Habib University. This template shows how to implement a simple neural network to recognize hand written digits using the MNIST dataset in C++ using the Eigen library.\n",
        "\n",
        "# Downloading Eigen:\n",
        "We first download Eigen from the github repo."
      ],
      "metadata": {
        "id": "VCiN1wGYNlij"
      }
    },
    {
      "cell_type": "code",
      "source": [
        "!git clone https://gitlab.com/libeigen/eigen.git"
      ],
      "metadata": {
        "colab": {
          "base_uri": "https://localhost:8080/"
        },
        "id": "q4z6vYF3uFGr",
        "outputId": "3ebc9135-950b-4251-e15b-952cf0bf86ad"
      },
      "execution_count": 60,
      "outputs": [
        {
          "output_type": "stream",
          "name": "stdout",
          "text": [
            "fatal: destination path 'eigen' already exists and is not an empty directory.\n"
          ]
        }
      ]
    },
    {
      "cell_type": "markdown",
      "source": [
        "# Downloading MNIST dataset:\n",
        "Next, we download the MNIST dataset from the github repository of our course."
      ],
      "metadata": {
        "id": "tnNvwk-xudsr"
      }
    },
    {
      "cell_type": "code",
      "source": [
        "!wget -P data/ -nc \"https://github.com/mmmovania/CUDA_Spring_2024/raw/main/Assignment2/data/t10k-images-idx3-ubyte\"\n",
        "!wget -P data/ -nc \"https://github.com/mmmovania/CUDA_Spring_2024/raw/main/Assignment2/data/t10k-labels-idx1-ubyte\"\n",
        "!wget -P data/ -nc \"https://github.com/mmmovania/CUDA_Spring_2024/raw/main/Assignment2/data/train-images-idx3-ubyte\"\n",
        "!wget -P data/ -nc \"https://github.com/mmmovania/CUDA_Spring_2024/raw/main/Assignment2/data/train-labels-idx1-ubyte\""
      ],
      "metadata": {
        "colab": {
          "base_uri": "https://localhost:8080/"
        },
        "id": "cfWMzYFwQIKh",
        "outputId": "1e804c46-3a3a-41d4-a1f6-99d3152f5186"
      },
      "execution_count": 61,
      "outputs": [
        {
          "output_type": "stream",
          "name": "stdout",
          "text": [
            "--2024-02-20 16:19:20--  https://github.com/mmmovania/CUDA_Spring_2024/raw/main/Assignment2/data/t10k-images-idx3-ubyte\n",
            "Resolving github.com (github.com)... 192.30.255.112\n",
            "Connecting to github.com (github.com)|192.30.255.112|:443... connected.\n",
            "HTTP request sent, awaiting response... 302 Found\n",
            "Location: https://raw.githubusercontent.com/mmmovania/CUDA_Spring_2024/main/Assignment2/data/t10k-images-idx3-ubyte [following]\n",
            "--2024-02-20 16:19:21--  https://raw.githubusercontent.com/mmmovania/CUDA_Spring_2024/main/Assignment2/data/t10k-images-idx3-ubyte\n",
            "Resolving raw.githubusercontent.com (raw.githubusercontent.com)... 185.199.108.133, 185.199.109.133, 185.199.110.133, ...\n",
            "Connecting to raw.githubusercontent.com (raw.githubusercontent.com)|185.199.108.133|:443... connected.\n",
            "HTTP request sent, awaiting response... 200 OK\n",
            "Length: 7840016 (7.5M) [application/octet-stream]\n",
            "Saving to: ‘data/t10k-images-idx3-ubyte’\n",
            "\n",
            "t10k-images-idx3-ub 100%[===================>]   7.48M  --.-KB/s    in 0.05s   \n",
            "\n",
            "2024-02-20 16:19:22 (143 MB/s) - ‘data/t10k-images-idx3-ubyte’ saved [7840016/7840016]\n",
            "\n",
            "--2024-02-20 16:19:22--  https://github.com/mmmovania/CUDA_Spring_2024/raw/main/Assignment2/data/t10k-labels-idx1-ubyte\n",
            "Resolving github.com (github.com)... 192.30.255.112\n",
            "Connecting to github.com (github.com)|192.30.255.112|:443... connected.\n",
            "HTTP request sent, awaiting response... 302 Found\n",
            "Location: https://raw.githubusercontent.com/mmmovania/CUDA_Spring_2024/main/Assignment2/data/t10k-labels-idx1-ubyte [following]\n",
            "--2024-02-20 16:19:22--  https://raw.githubusercontent.com/mmmovania/CUDA_Spring_2024/main/Assignment2/data/t10k-labels-idx1-ubyte\n",
            "Resolving raw.githubusercontent.com (raw.githubusercontent.com)... 185.199.108.133, 185.199.109.133, 185.199.110.133, ...\n",
            "Connecting to raw.githubusercontent.com (raw.githubusercontent.com)|185.199.108.133|:443... connected.\n",
            "HTTP request sent, awaiting response... 200 OK\n",
            "Length: 10008 (9.8K) [application/octet-stream]\n",
            "Saving to: ‘data/t10k-labels-idx1-ubyte’\n",
            "\n",
            "t10k-labels-idx1-ub 100%[===================>]   9.77K  --.-KB/s    in 0.001s  \n",
            "\n",
            "2024-02-20 16:19:22 (17.4 MB/s) - ‘data/t10k-labels-idx1-ubyte’ saved [10008/10008]\n",
            "\n",
            "--2024-02-20 16:19:22--  https://github.com/mmmovania/CUDA_Spring_2024/raw/main/Assignment2/data/train-images-idx3-ubyte\n",
            "Resolving github.com (github.com)... 192.30.255.112\n",
            "Connecting to github.com (github.com)|192.30.255.112|:443... connected.\n",
            "HTTP request sent, awaiting response... 302 Found\n",
            "Location: https://raw.githubusercontent.com/mmmovania/CUDA_Spring_2024/main/Assignment2/data/train-images-idx3-ubyte [following]\n",
            "--2024-02-20 16:19:22--  https://raw.githubusercontent.com/mmmovania/CUDA_Spring_2024/main/Assignment2/data/train-images-idx3-ubyte\n",
            "Resolving raw.githubusercontent.com (raw.githubusercontent.com)... 185.199.108.133, 185.199.109.133, 185.199.110.133, ...\n",
            "Connecting to raw.githubusercontent.com (raw.githubusercontent.com)|185.199.108.133|:443... connected.\n",
            "HTTP request sent, awaiting response... 200 OK\n",
            "Length: 47040016 (45M) [application/octet-stream]\n",
            "Saving to: ‘data/train-images-idx3-ubyte’\n",
            "\n",
            "train-images-idx3-u 100%[===================>]  44.86M  --.-KB/s    in 0.1s    \n",
            "\n",
            "2024-02-20 16:19:24 (304 MB/s) - ‘data/train-images-idx3-ubyte’ saved [47040016/47040016]\n",
            "\n",
            "--2024-02-20 16:19:24--  https://github.com/mmmovania/CUDA_Spring_2024/raw/main/Assignment2/data/train-labels-idx1-ubyte\n",
            "Resolving github.com (github.com)... 192.30.255.112\n",
            "Connecting to github.com (github.com)|192.30.255.112|:443... connected.\n",
            "HTTP request sent, awaiting response... 302 Found\n",
            "Location: https://raw.githubusercontent.com/mmmovania/CUDA_Spring_2024/main/Assignment2/data/train-labels-idx1-ubyte [following]\n",
            "--2024-02-20 16:19:24--  https://raw.githubusercontent.com/mmmovania/CUDA_Spring_2024/main/Assignment2/data/train-labels-idx1-ubyte\n",
            "Resolving raw.githubusercontent.com (raw.githubusercontent.com)... 185.199.108.133, 185.199.109.133, 185.199.110.133, ...\n",
            "Connecting to raw.githubusercontent.com (raw.githubusercontent.com)|185.199.108.133|:443... connected.\n",
            "HTTP request sent, awaiting response... 200 OK\n",
            "Length: 60008 (59K) [application/octet-stream]\n",
            "Saving to: ‘data/train-labels-idx1-ubyte’\n",
            "\n",
            "train-labels-idx1-u 100%[===================>]  58.60K  --.-KB/s    in 0.008s  \n",
            "\n",
            "2024-02-20 16:19:24 (7.14 MB/s) - ‘data/train-labels-idx1-ubyte’ saved [60008/60008]\n",
            "\n"
          ]
        }
      ]
    },
    {
      "cell_type": "markdown",
      "source": [
        "# Downloading the C++ MNIST solver code:\n",
        "Next, we download the required source files from the github repository of Assignment 2."
      ],
      "metadata": {
        "id": "8Fy4qsNSRkea"
      }
    },
    {
      "cell_type": "code",
      "source": [
        "!wget -P src/ -nc \"https://github.com/mmmovania/CUDA_Spring_2024/raw/main/Assignment2/ActivationAndLossFunctions.h\"\n",
        "!wget -P src/ -nc \"https://github.com/mmmovania/CUDA_Spring_2024/raw/main/Assignment2/NeuralNetwork.h\"\n",
        "!wget -P src/ -nc \"https://github.com/mmmovania/CUDA_Spring_2024/raw/main/Assignment2/MNIST_Solver.cpp\""
      ],
      "metadata": {
        "colab": {
          "base_uri": "https://localhost:8080/"
        },
        "id": "kYSCHgmwRwca",
        "outputId": "d09fb342-865a-424e-bf68-6fe1de2d7440"
      },
      "execution_count": 62,
      "outputs": [
        {
          "output_type": "stream",
          "name": "stdout",
          "text": [
            "--2024-02-20 16:19:24--  https://github.com/mmmovania/CUDA_Spring_2024/raw/main/Assignment2/ActivationAndLossFunctions.h\n",
            "Resolving github.com (github.com)... 192.30.255.113\n",
            "Connecting to github.com (github.com)|192.30.255.113|:443... connected.\n",
            "HTTP request sent, awaiting response... 302 Found\n",
            "Location: https://raw.githubusercontent.com/mmmovania/CUDA_Spring_2024/main/Assignment2/ActivationAndLossFunctions.h [following]\n",
            "--2024-02-20 16:19:25--  https://raw.githubusercontent.com/mmmovania/CUDA_Spring_2024/main/Assignment2/ActivationAndLossFunctions.h\n",
            "Resolving raw.githubusercontent.com (raw.githubusercontent.com)... 185.199.110.133, 185.199.111.133, 185.199.109.133, ...\n",
            "Connecting to raw.githubusercontent.com (raw.githubusercontent.com)|185.199.110.133|:443... connected.\n",
            "HTTP request sent, awaiting response... 200 OK\n",
            "Length: 1284 (1.3K) [text/plain]\n",
            "Saving to: ‘src/ActivationAndLossFunctions.h’\n",
            "\n",
            "ActivationAndLossFu 100%[===================>]   1.25K  --.-KB/s    in 0s      \n",
            "\n",
            "2024-02-20 16:19:25 (74.3 MB/s) - ‘src/ActivationAndLossFunctions.h’ saved [1284/1284]\n",
            "\n",
            "--2024-02-20 16:19:25--  https://github.com/mmmovania/CUDA_Spring_2024/raw/main/Assignment2/NeuralNetwork.h\n",
            "Resolving github.com (github.com)... 192.30.255.112\n",
            "Connecting to github.com (github.com)|192.30.255.112|:443... connected.\n",
            "HTTP request sent, awaiting response... 302 Found\n",
            "Location: https://raw.githubusercontent.com/mmmovania/CUDA_Spring_2024/main/Assignment2/NeuralNetwork.h [following]\n",
            "--2024-02-20 16:19:25--  https://raw.githubusercontent.com/mmmovania/CUDA_Spring_2024/main/Assignment2/NeuralNetwork.h\n",
            "Resolving raw.githubusercontent.com (raw.githubusercontent.com)... 185.199.108.133, 185.199.109.133, 185.199.110.133, ...\n",
            "Connecting to raw.githubusercontent.com (raw.githubusercontent.com)|185.199.108.133|:443... connected.\n",
            "HTTP request sent, awaiting response... 200 OK\n",
            "Length: 5060 (4.9K) [text/plain]\n",
            "Saving to: ‘src/NeuralNetwork.h’\n",
            "\n",
            "NeuralNetwork.h     100%[===================>]   4.94K  --.-KB/s    in 0s      \n",
            "\n",
            "2024-02-20 16:19:25 (60.1 MB/s) - ‘src/NeuralNetwork.h’ saved [5060/5060]\n",
            "\n",
            "--2024-02-20 16:19:25--  https://github.com/mmmovania/CUDA_Spring_2024/raw/main/Assignment2/MNIST_Solver.cpp\n",
            "Resolving github.com (github.com)... 192.30.255.112\n",
            "Connecting to github.com (github.com)|192.30.255.112|:443... connected.\n",
            "HTTP request sent, awaiting response... 302 Found\n",
            "Location: https://raw.githubusercontent.com/mmmovania/CUDA_Spring_2024/main/Assignment2/MNIST_Solver.cpp [following]\n",
            "--2024-02-20 16:19:25--  https://raw.githubusercontent.com/mmmovania/CUDA_Spring_2024/main/Assignment2/MNIST_Solver.cpp\n",
            "Resolving raw.githubusercontent.com (raw.githubusercontent.com)... 185.199.111.133, 185.199.108.133, 185.199.109.133, ...\n",
            "Connecting to raw.githubusercontent.com (raw.githubusercontent.com)|185.199.111.133|:443... connected.\n",
            "HTTP request sent, awaiting response... 200 OK\n",
            "Length: 4826 (4.7K) [text/plain]\n",
            "Saving to: ‘src/MNIST_Solver.cpp’\n",
            "\n",
            "MNIST_Solver.cpp    100%[===================>]   4.71K  --.-KB/s    in 0s      \n",
            "\n",
            "2024-02-20 16:19:25 (46.2 MB/s) - ‘src/MNIST_Solver.cpp’ saved [4826/4826]\n",
            "\n"
          ]
        }
      ]
    },
    {
      "cell_type": "markdown",
      "source": [
        "# Compiling and running our code:\n",
        "We then compile our code using the include path of Eigen library. We invoke g++ with -I flag to pass the include directory of Eigen."
      ],
      "metadata": {
        "id": "_DDC3vS6umLM"
      }
    },
    {
      "cell_type": "code",
      "source": [
        "!g++ /content/src/MNIST_Solver.cpp -I/content/eigen -o MNIST_Solver"
      ],
      "metadata": {
        "id": "9052RHdltssc"
      },
      "execution_count": 63,
      "outputs": []
    },
    {
      "cell_type": "markdown",
      "source": [
        "Finally, we run our code."
      ],
      "metadata": {
        "id": "neviEUZAup2b"
      }
    },
    {
      "cell_type": "code",
      "source": [
        "!./MNIST_Solver"
      ],
      "metadata": {
        "colab": {
          "base_uri": "https://localhost:8080/"
        },
        "id": "1huXaiJguS1M",
        "outputId": "3e0553c6-7468-4cf1-fd1d-cea69cf4cada"
      },
      "execution_count": 64,
      "outputs": [
        {
          "output_type": "stream",
          "name": "stdout",
          "text": [
            "Using Eigen ver: 3.4.90\n",
            "Rows: 28, Cols: 28\n",
            "x_train[60000,784]\n",
            "y_train[60000,10]\n",
            "Samples: 1000\n",
            "x_train[1000,784]\n",
            "y_train[1000,10]\n",
            "Epoch 1/35 error = 0.208864\n",
            "Epoch 2/35 error = 0.100195\n",
            "Epoch 3/35 error = 0.0777795\n",
            "Epoch 4/35 error = 0.0631701\n",
            "Epoch 5/35 error = 0.0538012\n",
            "Epoch 6/35 error = 0.0458544\n",
            "Epoch 7/35 error = 0.0396048\n",
            "Epoch 8/35 error = 0.0354864\n",
            "Epoch 9/35 error = 0.0318463\n",
            "Epoch 10/35 error = 0.0296629\n",
            "Epoch 11/35 error = 0.0265397\n",
            "Epoch 12/35 error = 0.0246611\n",
            "Epoch 13/35 error = 0.0222034\n",
            "Epoch 14/35 error = 0.0206709\n",
            "Epoch 15/35 error = 0.0181508\n",
            "Epoch 16/35 error = 0.0163656\n",
            "Epoch 17/35 error = 0.0153327\n",
            "Epoch 18/35 error = 0.0140544\n",
            "Epoch 19/35 error = 0.0135972\n",
            "Epoch 20/35 error = 0.0126761\n",
            "Epoch 21/35 error = 0.0120628\n",
            "Epoch 22/35 error = 0.011422\n",
            "Epoch 23/35 error = 0.0110313\n",
            "Epoch 24/35 error = 0.0103203\n",
            "Epoch 25/35 error = 0.0100648\n",
            "Epoch 26/35 error = 0.00970239\n",
            "Epoch 27/35 error = 0.00911601\n",
            "Epoch 28/35 error = 0.00896864\n",
            "Epoch 29/35 error = 0.00866538\n",
            "Epoch 30/35 error = 0.00854332\n",
            "Epoch 31/35 error = 0.00823235\n",
            "Epoch 32/35 error = 0.00805883\n",
            "Epoch 33/35 error = 0.00783466\n",
            "Epoch 34/35 error = 0.00767775\n",
            "Epoch 35/35 error = 0.00750327\n",
            "Predicted values: \n",
            "7 6 1 \n",
            "True values: \n",
            "7 2 1 "
          ]
        }
      ]
    }
  ]
}