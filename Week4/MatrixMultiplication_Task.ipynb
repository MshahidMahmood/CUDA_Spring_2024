{
  "nbformat": 4,
  "nbformat_minor": 0,
  "metadata": {
    "colab": {
      "name": "MatrixMultiplication.ipynb",
      "provenance": [],
      "include_colab_link": true
    },
    "kernelspec": {
      "name": "python3",
      "display_name": "Python 3"
    },
    "language_info": {
      "name": "python"
    },
    "accelerator": "GPU"
  },
  "cells": [
    {
      "cell_type": "markdown",
      "metadata": {
        "id": "view-in-github",
        "colab_type": "text"
      },
      "source": [
        "<a href=\"https://colab.research.google.com/github/mmmovania/CUDA_Spring2023/blob/main/Week4/MatrixMultiplication_Task.ipynb\" target=\"_parent\"><img src=\"https://colab.research.google.com/assets/colab-badge.svg\" alt=\"Open In Colab\"/></a>"
      ]
    },
    {
      "cell_type": "code",
      "execution_count": 1,
      "metadata": {
        "colab": {
          "base_uri": "https://localhost:8080/"
        },
        "id": "-YhC1zB4-2ST",
        "outputId": "ad4a9774-1a18-4196-844c-b80670ab4914"
      },
      "outputs": [
        {
          "output_type": "stream",
          "name": "stdout",
          "text": [
            "Looking in indexes: https://pypi.org/simple, https://us-python.pkg.dev/colab-wheels/public/simple/\n",
            "Collecting git+https://github.com/andreinechaev/nvcc4jupyter.git\n",
            "  Cloning https://github.com/andreinechaev/nvcc4jupyter.git to /tmp/pip-req-build-9dl6ggj0\n",
            "  Running command git clone --filter=blob:none --quiet https://github.com/andreinechaev/nvcc4jupyter.git /tmp/pip-req-build-9dl6ggj0\n",
            "  Resolved https://github.com/andreinechaev/nvcc4jupyter.git to commit aac710a35f52bb78ab34d2e52517237941399eff\n",
            "  Preparing metadata (setup.py) ... \u001b[?25l\u001b[?25hdone\n",
            "Building wheels for collected packages: NVCCPlugin\n",
            "  Building wheel for NVCCPlugin (setup.py) ... \u001b[?25l\u001b[?25hdone\n",
            "  Created wheel for NVCCPlugin: filename=NVCCPlugin-0.0.2-py3-none-any.whl size=4304 sha256=ea30fdd8f37d0827c46078abac20464f6e51164bd927aa5b27719578fccdb773\n",
            "  Stored in directory: /tmp/pip-ephem-wheel-cache-zgbuiu_z/wheels/f3/08/cc/e2b5b0e1c92df07dbb50a6f024a68ce090f5e7b2316b41756d\n",
            "Successfully built NVCCPlugin\n",
            "Installing collected packages: NVCCPlugin\n",
            "Successfully installed NVCCPlugin-0.0.2\n",
            "created output directory at /content/src\n",
            "Out bin /content/result.out\n"
          ]
        }
      ],
      "source": [
        "!pip install git+https://github.com/andreinechaev/nvcc4jupyter.git\n",
        "%load_ext nvcc_plugin"
      ]
    },
    {
      "cell_type": "code",
      "source": [
        "%%cu\n",
        "#include <stdio.h>\n",
        "#include <cuda.h>\n",
        " \n",
        "__global__ void MatrixMulti(float* A, float* B, float* C, const int N) {\n",
        "\t//Calculate the row # \n",
        "\tint Row = blockIdx.y*blockDim.y + threadIdx.y;\n",
        "\n",
        "\t//Calculate the column # \n",
        "\tint Col = blockIdx.x*blockDim.x + threadIdx.x;\n",
        "\n",
        "\tif ((Row < m) && (Col < n)) {\n",
        "\t\t \n",
        "\t}\n",
        "}\n",
        "\n",
        "\n",
        "int main(int argc, char** argv)\n",
        "{ \n",
        "\t \n",
        "\treturn 0;\n",
        "}"
      ],
      "metadata": {
        "colab": {
          "base_uri": "https://localhost:8080/"
        },
        "id": "N6OBCDHlAcrD",
        "outputId": "27339eb8-e74e-454c-b9a7-8f47cae3668c"
      },
      "execution_count": 2,
      "outputs": [
        {
          "output_type": "stream",
          "name": "stdout",
          "text": [
            "/tmp/tmp30ov0vd6/fb577c06-20f6-4e3c-bdad-e4125bc8a44e.cu(11): error: identifier \"m\" is undefined\n",
            "\n",
            "/tmp/tmp30ov0vd6/fb577c06-20f6-4e3c-bdad-e4125bc8a44e.cu(11): error: identifier \"n\" is undefined\n",
            "\n",
            "2 errors detected in the compilation of \"/tmp/tmp30ov0vd6/fb577c06-20f6-4e3c-bdad-e4125bc8a44e.cu\".\n",
            "\n"
          ]
        }
      ]
    }
  ]
}