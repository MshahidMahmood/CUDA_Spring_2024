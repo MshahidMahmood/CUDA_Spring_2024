{
  "cells": [
    {
      "cell_type": "markdown",
      "metadata": {
        "colab_type": "text",
        "id": "view-in-github"
      },
      "source": [
        "<a href=\"https://colab.research.google.com/github/mmmovania/CUDA_Spring2023/blob/main/Week4/Simple2D.ipynb\" target=\"_parent\"><img src=\"https://colab.research.google.com/assets/colab-badge.svg\" alt=\"Open In Colab\"/></a>"
      ]
    },
    {
      "cell_type": "code",
      "execution_count": 1,
      "metadata": {
        "colab": {
          "base_uri": "https://localhost:8080/"
        },
        "id": "NEC1YQlf9uiU",
        "outputId": "067feb91-8b37-457f-f12b-f2791387c423"
      },
      "outputs": [
        {
          "name": "stdout",
          "output_type": "stream",
          "text": [
            "Looking in indexes: https://pypi.org/simple, https://us-python.pkg.dev/colab-wheels/public/simple/\n",
            "Collecting git+https://github.com/andreinechaev/nvcc4jupyter.git\n",
            "  Cloning https://github.com/andreinechaev/nvcc4jupyter.git to /tmp/pip-req-build-tu0g1qtv\n",
            "  Running command git clone --filter=blob:none --quiet https://github.com/andreinechaev/nvcc4jupyter.git /tmp/pip-req-build-tu0g1qtv\n",
            "  Resolved https://github.com/andreinechaev/nvcc4jupyter.git to commit aac710a35f52bb78ab34d2e52517237941399eff\n",
            "  Preparing metadata (setup.py) ... \u001b[?25l\u001b[?25hdone\n",
            "Building wheels for collected packages: NVCCPlugin\n",
            "  Building wheel for NVCCPlugin (setup.py) ... \u001b[?25l\u001b[?25hdone\n",
            "  Created wheel for NVCCPlugin: filename=NVCCPlugin-0.0.2-py3-none-any.whl size=4304 sha256=dcc519d233d22c6da81bfd81192d89bfa714bfe2edb776ae6ce7c952a1d4046b\n",
            "  Stored in directory: /tmp/pip-ephem-wheel-cache-_gwtx000/wheels/f3/08/cc/e2b5b0e1c92df07dbb50a6f024a68ce090f5e7b2316b41756d\n",
            "Successfully built NVCCPlugin\n",
            "Installing collected packages: NVCCPlugin\n",
            "Successfully installed NVCCPlugin-0.0.2\n",
            "created output directory at /content/src\n",
            "Out bin /content/result.out\n"
          ]
        }
      ],
      "source": [
        "!pip install git+https://github.com/andreinechaev/nvcc4jupyter.git\n",
        "%load_ext nvcc_plugin"
      ]
    },
    {
      "cell_type": "code",
      "execution_count": 2,
      "metadata": {
        "colab": {
          "base_uri": "https://localhost:8080/"
        },
        "id": "prZ5rRtQ91Lu",
        "outputId": "9b00f5cc-5bb1-4f70-d17b-db4e16bcb2e0"
      },
      "outputs": [
        {
          "name": "stdout",
          "output_type": "stream",
          "text": [
            " 0  0  0  0  1  1  1  1  2  2  2  2  3  3  3  3 \n",
            " 0  0  0  0  1  1  1  1  2  2  2  2  3  3  3  3 \n",
            " 0  0  0  0  1  1  1  1  2  2  2  2  3  3  3  3 \n",
            " 0  0  0  0  1  1  1  1  2  2  2  2  3  3  3  3 \n",
            " 4  4  4  4  5  5  5  5  6  6  6  6  7  7  7  7 \n",
            " 4  4  4  4  5  5  5  5  6  6  6  6  7  7  7  7 \n",
            " 4  4  4  4  5  5  5  5  6  6  6  6  7  7  7  7 \n",
            " 4  4  4  4  5  5  5  5  6  6  6  6  7  7  7  7 \n",
            " 8  8  8  8  9  9  9  9 10 10 10 10 11 11 11 11 \n",
            " 8  8  8  8  9  9  9  9 10 10 10 10 11 11 11 11 \n",
            " 8  8  8  8  9  9  9  9 10 10 10 10 11 11 11 11 \n",
            " 8  8  8  8  9  9  9  9 10 10 10 10 11 11 11 11 \n",
            "12 12 12 12 13 13 13 13 14 14 14 14 15 15 15 15 \n",
            "12 12 12 12 13 13 13 13 14 14 14 14 15 15 15 15 \n",
            "12 12 12 12 13 13 13 13 14 14 14 14 15 15 15 15 \n",
            "12 12 12 12 13 13 13 13 14 14 14 14 15 15 15 15 \n",
            "\n",
            "\n"
          ]
        }
      ],
      "source": [
        "%%cu\n",
        "//Taken from: https://code.google.com/p/stanford-cs193g-sp2010/wiki/TutorialMultidimensionalKernelLaunch\n",
        "\n",
        "#include <stdlib.h>\n",
        "#include <stdio.h>\n",
        "\n",
        "__global__ void kernel(int *array)\n",
        "{\n",
        "  int index_x = blockIdx.x * blockDim.x + threadIdx.x;\n",
        "  int index_y = blockIdx.y * blockDim.y + threadIdx.y;\n",
        "\n",
        "  // map the two 2D indices to a single linear, 1D index\n",
        "  int grid_width = gridDim.x * blockDim.x;\n",
        "  int index = index_y * grid_width + index_x;\n",
        "\n",
        "  // map the two 2D block indices to a single linear, 1D block index\n",
        "  int result = blockIdx.y * gridDim.x + blockIdx.x;\n",
        "\n",
        "  // write out the result\n",
        "  array[index] = result;\n",
        "}\n",
        "\n",
        "int main(void)\n",
        "{\n",
        "  int num_elements_x = 16;\n",
        "  int num_elements_y = 16;\n",
        "\n",
        "  int num_bytes = num_elements_x * num_elements_y * sizeof(int);\n",
        "\n",
        "  int *device_array = 0;\n",
        "  int *host_array = 0;\n",
        "\n",
        "  // allocate memory in either space\n",
        "  host_array = (int*)malloc(num_bytes);\n",
        "  cudaMalloc((void**)&device_array, num_bytes);\n",
        "\n",
        "  // create two dimensional 4x4 thread blocks\n",
        "  dim3 block_size;\n",
        "  block_size.x = 4;\n",
        "  block_size.y = 4;\n",
        "\n",
        "  // configure a two dimensional grid as well\n",
        "  dim3 grid_size;\n",
        "  grid_size.x = num_elements_x / block_size.x;\n",
        "  grid_size.y = num_elements_y / block_size.y;\n",
        "\n",
        "  // grid_size & block_size are passed as arguments to the triple chevrons as usual\n",
        "  kernel<<<grid_size,block_size>>>(device_array);\n",
        "\n",
        "  // download and inspect the result on the host:\n",
        "  cudaMemcpy(host_array, device_array, num_bytes, cudaMemcpyDeviceToHost);\n",
        "\n",
        "  // print out the result element by element\n",
        "  for(int row = 0; row < num_elements_y; ++row)\n",
        "  {\n",
        "    for(int col = 0; col < num_elements_x; ++col)\n",
        "    {\n",
        "      printf(\"%2d \", host_array[row * num_elements_x + col]);\n",
        "    }\n",
        "    printf(\"\\n\");\n",
        "  }\n",
        "  printf(\"\\n\");\n",
        "\n",
        "  // deallocate memory\n",
        "  free(host_array);\n",
        "  cudaFree(device_array);\n",
        "}"
      ]
    }
  ],
  "metadata": {
    "accelerator": "GPU",
    "colab": {
      "include_colab_link": true,
      "name": "Simple2D.ipynb",
      "provenance": []
    },
    "kernelspec": {
      "display_name": "Python 3",
      "name": "python3"
    },
    "language_info": {
      "name": "python"
    }
  },
  "nbformat": 4,
  "nbformat_minor": 0
}
