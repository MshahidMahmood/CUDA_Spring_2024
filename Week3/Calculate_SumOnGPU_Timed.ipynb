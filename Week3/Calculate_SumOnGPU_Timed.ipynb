{
  "nbformat": 4,
  "nbformat_minor": 0,
  "metadata": {
    "colab": {
      "provenance": [],
      "include_colab_link": true
    },
    "kernelspec": {
      "name": "python3",
      "display_name": "Python 3"
    },
    "language_info": {
      "name": "python"
    },
    "accelerator": "GPU"
  },
  "cells": [
    {
      "cell_type": "markdown",
      "metadata": {
        "id": "view-in-github",
        "colab_type": "text"
      },
      "source": [
        "<a href=\"https://colab.research.google.com/github/mmmovania/CUDA_Spring2023/blob/main/Week3/Calculate_SumOnGPU_Timed.ipynb\" target=\"_parent\"><img src=\"https://colab.research.google.com/assets/colab-badge.svg\" alt=\"Open In Colab\"/></a>"
      ]
    },
    {
      "cell_type": "code",
      "execution_count": 1,
      "metadata": {
        "colab": {
          "base_uri": "https://localhost:8080/"
        },
        "id": "OB2MY3st-VUm",
        "outputId": "fca42cd9-b7aa-489c-9114-3ad521d3e491"
      },
      "outputs": [
        {
          "output_type": "stream",
          "name": "stdout",
          "text": [
            "Looking in indexes: https://pypi.org/simple, https://us-python.pkg.dev/colab-wheels/public/simple/\n",
            "Collecting git+https://github.com/andreinechaev/nvcc4jupyter.git\n",
            "  Cloning https://github.com/andreinechaev/nvcc4jupyter.git to /tmp/pip-req-build-rjete5us\n",
            "  Running command git clone --filter=blob:none --quiet https://github.com/andreinechaev/nvcc4jupyter.git /tmp/pip-req-build-rjete5us\n",
            "  Resolved https://github.com/andreinechaev/nvcc4jupyter.git to commit aac710a35f52bb78ab34d2e52517237941399eff\n",
            "  Preparing metadata (setup.py) ... \u001b[?25l\u001b[?25hdone\n",
            "Building wheels for collected packages: NVCCPlugin\n",
            "  Building wheel for NVCCPlugin (setup.py) ... \u001b[?25l\u001b[?25hdone\n",
            "  Created wheel for NVCCPlugin: filename=NVCCPlugin-0.0.2-py3-none-any.whl size=4304 sha256=59d8d95df65ca4e34540d5d740c385597e75c823021acb09445e4d4a26d24ea7\n",
            "  Stored in directory: /tmp/pip-ephem-wheel-cache-52ux6a8h/wheels/f3/08/cc/e2b5b0e1c92df07dbb50a6f024a68ce090f5e7b2316b41756d\n",
            "Successfully built NVCCPlugin\n",
            "Installing collected packages: NVCCPlugin\n",
            "Successfully installed NVCCPlugin-0.0.2\n",
            "created output directory at /content/src\n",
            "Out bin /content/result.out\n"
          ]
        }
      ],
      "source": [
        "!pip install git+https://github.com/andreinechaev/nvcc4jupyter.git\n",
        "%load_ext nvcc_plugin"
      ]
    },
    {
      "cell_type": "code",
      "source": [
        "%%cu\n",
        "#include <stdio.h>\n",
        "#include <time.h>\n",
        "\n",
        "__global__ void sum(int* a, int* b, int* c, const int N) {\n",
        "\tint i = threadIdx.x + blockDim.x * blockIdx.x;\n",
        "\tif (i<N)\n",
        "\t\tc[i] = a[i] + b[i];\t\n",
        "\t//else \n",
        "\t//\tprintf(\"i > N -> %3d in block: %d\\n\", i, blockIdx.x);\n",
        "}\n",
        "\n",
        "void sum_host(int* a, int* b, int* c, const int N) {\n",
        "  clock_t clk;\n",
        "\n",
        "\tclk = clock();\n",
        "\tfor(int i=0; i<N; ++i)\n",
        "\t\tc[i] = a[i] + b[i];\n",
        "\n",
        "\tclk = clock() - clk;\n",
        "\tdouble dt = (((double)clk) / CLOCKS_PER_SEC) * 1000;\n",
        "\tprintf(\"Total time on CPU: %f msecs\\n\", dt);\n",
        "\n",
        "}\n",
        "\n",
        "\n",
        "int main() { \n",
        "\tint* h_a = 0;\n",
        "\tint* h_b = 0;\n",
        "\tint* h_c = 0;\n",
        "\t\n",
        "\tint* d_a = 0;\n",
        "\tint* d_b = 0;\n",
        "\tint* d_c = 0;\n",
        "\n",
        "\tconst int N = 50000; //2048;\n",
        "\tint numThreadsPerBlock =  128;\n",
        "\tint numBlocksPerGrid = ceilf(N/numThreadsPerBlock + 1);\n",
        "\tprintf(\"Num threads per block: %3d\\n\", numThreadsPerBlock);\n",
        "\tprintf(\"Num blocks per grid: %3d\\n\", numBlocksPerGrid);\n",
        "\n",
        "\tsize_t size = N * sizeof(int);\n",
        "\n",
        "\t//allocate host memory\n",
        "\th_a = (int*)malloc(size);\t \n",
        "\th_b = (int*)malloc(size);\t \n",
        "\th_c = (int*)malloc(size);\t \n",
        "\n",
        "\t//initialize a, b and c\n",
        "\tfor(int i=0;i<N;++i) {\n",
        "\t\th_a[i] = i+1;\n",
        "\t\th_b[i] = h_a[i]*2;\n",
        "\t\th_c[i] = 0;\n",
        "\t}\n",
        "\n",
        "  cudaEvent_t start, stop;\n",
        "\tcudaEventCreate(&start);\n",
        "\tcudaEventCreate(&stop);\n",
        "\n",
        "\t//allocate device memory \n",
        "\tcudaMalloc((void**)&d_a, size);\n",
        "\tcudaMalloc((void**)&d_b, size);\n",
        "\tcudaMalloc((void**)&d_c, size);\n",
        "\t\n",
        "\t//copy host data to device memory\n",
        "\tcudaMemcpy(d_a, h_a, size, cudaMemcpyHostToDevice); \n",
        "\tcudaMemcpy(d_b, h_b, size, cudaMemcpyHostToDevice);\n",
        "\n",
        "\t//calculate on host \n",
        "\tsum_host(h_a, h_b, h_c, N); \n",
        "\tprintf(\"Sum (host): %d\\n\", h_c); \n",
        "  \n",
        "\t//output result\n",
        "\t/*\n",
        "\tprintf(\"Host calculation result: \\n\");\n",
        "\tfor(int i=0;i<N;++i) {\n",
        "\t\tprintf(\"%3d + %3d = %3d\\n\", h_a[i], h_b[i], h_c[i]);\n",
        "\t\t//clear host result to ensure that the result of device is actually from the kernel\n",
        "\t\th_c[i] = 0;\n",
        "\t}\n",
        "\t*/\n",
        "\n",
        "\tcudaEventRecord(start);\n",
        "\t//calculate on device\n",
        "\tsum<<<numBlocksPerGrid, numThreadsPerBlock>>>(d_a, d_b, d_c, N);\n",
        "\tcudaDeviceSynchronize();\n",
        "\tcudaEventRecord(stop);\n",
        "\n",
        "  \n",
        "\n",
        "\t//copy result from device to host\n",
        "\tcudaMemcpy(h_c, d_c, size, cudaMemcpyDeviceToHost);\n",
        "\n",
        "  cudaEventSynchronize(stop);\n",
        "\n",
        "  printf(\"Sum (device): %d\\n\", h_c);\n",
        "\n",
        "\t//output result\n",
        "\t/*\n",
        "\tprintf(\"--------------------------------------\\n\");\n",
        "\tprintf(\"Device calculation result: \\n\");\n",
        "\tfor(int i=0;i<N;++i) {\n",
        "\t\tprintf(\"%3d + %3d = %3d\\n\", h_a[i], h_b[i], h_c[i]);\n",
        "\t}\n",
        "\tprintf(\"--------------------------------------\\n\");\n",
        "\t*/\n",
        " \n",
        " \tfloat dt = 0;\n",
        "\tcudaEventElapsedTime(&dt, start, stop);\n",
        "\tprintf(\"Total time on GPU: %f msecs\\n\", dt);\n",
        "\n",
        "\t//delete data allocated on device\n",
        "\tcudaFree(d_a);\n",
        "\tcudaFree(d_b);\n",
        "\tcudaFree(d_c);\n",
        "\n",
        "\t//delete host memory\n",
        "\tfree(h_a);\n",
        "\tfree(h_b);\n",
        "\tfree(h_c);\n",
        "\n",
        "\tcudaDeviceReset();\n",
        "\treturn 0;\n",
        "}"
      ],
      "metadata": {
        "colab": {
          "base_uri": "https://localhost:8080/"
        },
        "id": "GYZ627HO-XKd",
        "outputId": "c03d5fd2-887f-4581-f274-06344d5a4551"
      },
      "execution_count": 5,
      "outputs": [
        {
          "output_type": "stream",
          "name": "stdout",
          "text": [
            "Num threads per block: 128\n",
            "Num blocks per grid: 391\n",
            "Total time on CPU: 0.174000 msecs\n",
            "Sum (host): 2095013888\n",
            "Sum (device): 2095013888\n",
            "Total time on GPU: 0.053312 msecs\n",
            "\n"
          ]
        }
      ]
    }
  ]
}